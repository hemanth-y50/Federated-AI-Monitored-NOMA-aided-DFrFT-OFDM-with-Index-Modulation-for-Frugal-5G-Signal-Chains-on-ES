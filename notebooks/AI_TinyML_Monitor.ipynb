{
 "cells": [
  {
   "cell_type": "markdown",
   "id": "a1395e2d-5353-408e-85cf-805eab5c644b",
   "metadata": {},
   "source": [
    "# 3. AI Monitoring with TinyML\n",
    "## 3.1 Imports and Setup\n",
    "## 3.2 Synthetic SNR Dataset Generation\n",
    "## 3.3 Model Architecture (Lightweight MLP)\n",
    "## 3.4 Training and Evaluation\n",
    "## 3.5 Export to TFLite (.tflite)\n",
    "## 3.6 Convert to C Array for ESP32\n",
    "## 3.7 Save Accuracy Plot and Model"
   ]
  },
  {
   "cell_type": "code",
   "execution_count": 1,
   "id": "e665a734-e798-44a9-9d93-d1a32ffa5b29",
   "metadata": {},
   "outputs": [],
   "source": [
    "import numpy as np\n",
    "import matplotlib.pyplot as plt\n",
    "import tensorflow as tf\n",
    "from tensorflow.keras.models import Sequential\n",
    "from tensorflow.keras.layers import Dense"
   ]
  },
  {
   "cell_type": "code",
   "execution_count": 2,
   "id": "386e2957-748d-462d-83e7-bedbe5145918",
   "metadata": {},
   "outputs": [],
   "source": [
    "def generate_snr_dataset(samples=1000):\n",
    "    snr_values = np.random.uniform(0, 20, samples)\n",
    "    noise_levels = 1 / (10 ** (snr_values / 10))\n",
    "    features = np.stack([snr_values, noise_levels], axis=1)\n",
    "    labels = (snr_values > 10).astype(int)  # 1 = good, 0 = poor\n",
    "    return features, labels\n",
    "\n",
    "X, y = generate_snr_dataset()"
   ]
  },
  {
   "cell_type": "code",
   "execution_count": 4,
   "id": "00c4ad21-a2e9-44aa-a9b1-06025193bee5",
   "metadata": {},
   "outputs": [],
   "source": [
    "from tensorflow.keras import Input\n",
    "\n",
    "model = Sequential([\n",
    "    Input(shape=(2,)),\n",
    "    Dense(8, activation='relu'),\n",
    "    Dense(4, activation='relu'),\n",
    "    Dense(1, activation='sigmoid')\n",
    "])"
   ]
  },
  {
   "cell_type": "code",
   "execution_count": 7,
   "id": "a6243e88-dd22-4397-ba07-ef90422a5205",
   "metadata": {},
   "outputs": [
    {
     "name": "stdout",
     "output_type": "stream",
     "text": [
      "Epoch 1/20\n",
      "\u001b[1m25/25\u001b[0m \u001b[32m━━━━━━━━━━━━━━━━━━━━\u001b[0m\u001b[37m\u001b[0m \u001b[1m2s\u001b[0m 20ms/step - accuracy: 0.5088 - loss: 0.6333 - val_accuracy: 0.5650 - val_loss: 0.5809\n",
      "Epoch 2/20\n",
      "\u001b[1m25/25\u001b[0m \u001b[32m━━━━━━━━━━━━━━━━━━━━\u001b[0m\u001b[37m\u001b[0m \u001b[1m0s\u001b[0m 8ms/step - accuracy: 0.5437 - loss: 0.5964 - val_accuracy: 0.5950 - val_loss: 0.5528\n",
      "Epoch 3/20\n",
      "\u001b[1m25/25\u001b[0m \u001b[32m━━━━━━━━━━━━━━━━━━━━\u001b[0m\u001b[37m\u001b[0m \u001b[1m0s\u001b[0m 7ms/step - accuracy: 0.5788 - loss: 0.5669 - val_accuracy: 0.6350 - val_loss: 0.5271\n",
      "Epoch 4/20\n",
      "\u001b[1m25/25\u001b[0m \u001b[32m━━━━━━━━━━━━━━━━━━━━\u001b[0m\u001b[37m\u001b[0m \u001b[1m0s\u001b[0m 8ms/step - accuracy: 0.6162 - loss: 0.5389 - val_accuracy: 0.7000 - val_loss: 0.5007\n",
      "Epoch 5/20\n",
      "\u001b[1m25/25\u001b[0m \u001b[32m━━━━━━━━━━━━━━━━━━━━\u001b[0m\u001b[37m\u001b[0m \u001b[1m0s\u001b[0m 7ms/step - accuracy: 0.6975 - loss: 0.5076 - val_accuracy: 0.7500 - val_loss: 0.4683\n",
      "Epoch 6/20\n",
      "\u001b[1m25/25\u001b[0m \u001b[32m━━━━━━━━━━━━━━━━━━━━\u001b[0m\u001b[37m\u001b[0m \u001b[1m0s\u001b[0m 9ms/step - accuracy: 0.7513 - loss: 0.4764 - val_accuracy: 0.7500 - val_loss: 0.4435\n",
      "Epoch 7/20\n",
      "\u001b[1m25/25\u001b[0m \u001b[32m━━━━━━━━━━━━━━━━━━━━\u001b[0m\u001b[37m\u001b[0m \u001b[1m0s\u001b[0m 7ms/step - accuracy: 0.7750 - loss: 0.4536 - val_accuracy: 0.8100 - val_loss: 0.4292\n",
      "Epoch 8/20\n",
      "\u001b[1m25/25\u001b[0m \u001b[32m━━━━━━━━━━━━━━━━━━━━\u001b[0m\u001b[37m\u001b[0m \u001b[1m0s\u001b[0m 9ms/step - accuracy: 0.7950 - loss: 0.4315 - val_accuracy: 0.8200 - val_loss: 0.4053\n",
      "Epoch 9/20\n",
      "\u001b[1m25/25\u001b[0m \u001b[32m━━━━━━━━━━━━━━━━━━━━\u001b[0m\u001b[37m\u001b[0m \u001b[1m0s\u001b[0m 8ms/step - accuracy: 0.8225 - loss: 0.4097 - val_accuracy: 0.8550 - val_loss: 0.3863\n",
      "Epoch 10/20\n",
      "\u001b[1m25/25\u001b[0m \u001b[32m━━━━━━━━━━━━━━━━━━━━\u001b[0m\u001b[37m\u001b[0m \u001b[1m0s\u001b[0m 8ms/step - accuracy: 0.8525 - loss: 0.3882 - val_accuracy: 0.8600 - val_loss: 0.3647\n",
      "Epoch 11/20\n",
      "\u001b[1m25/25\u001b[0m \u001b[32m━━━━━━━━━━━━━━━━━━━━\u001b[0m\u001b[37m\u001b[0m \u001b[1m0s\u001b[0m 8ms/step - accuracy: 0.8500 - loss: 0.3672 - val_accuracy: 0.8800 - val_loss: 0.3480\n",
      "Epoch 12/20\n",
      "\u001b[1m25/25\u001b[0m \u001b[32m━━━━━━━━━━━━━━━━━━━━\u001b[0m\u001b[37m\u001b[0m \u001b[1m0s\u001b[0m 8ms/step - accuracy: 0.8888 - loss: 0.3478 - val_accuracy: 0.8800 - val_loss: 0.3255\n",
      "Epoch 13/20\n",
      "\u001b[1m25/25\u001b[0m \u001b[32m━━━━━━━━━━━━━━━━━━━━\u001b[0m\u001b[37m\u001b[0m \u001b[1m0s\u001b[0m 7ms/step - accuracy: 0.8763 - loss: 0.3278 - val_accuracy: 0.9350 - val_loss: 0.3107\n",
      "Epoch 14/20\n",
      "\u001b[1m25/25\u001b[0m \u001b[32m━━━━━━━━━━━━━━━━━━━━\u001b[0m\u001b[37m\u001b[0m \u001b[1m0s\u001b[0m 7ms/step - accuracy: 0.8963 - loss: 0.3070 - val_accuracy: 0.9100 - val_loss: 0.2881\n",
      "Epoch 15/20\n",
      "\u001b[1m25/25\u001b[0m \u001b[32m━━━━━━━━━━━━━━━━━━━━\u001b[0m\u001b[37m\u001b[0m \u001b[1m0s\u001b[0m 9ms/step - accuracy: 0.9050 - loss: 0.2876 - val_accuracy: 0.9350 - val_loss: 0.2683\n",
      "Epoch 16/20\n",
      "\u001b[1m25/25\u001b[0m \u001b[32m━━━━━━━━━━━━━━━━━━━━\u001b[0m\u001b[37m\u001b[0m \u001b[1m0s\u001b[0m 8ms/step - accuracy: 0.9362 - loss: 0.2579 - val_accuracy: 0.9350 - val_loss: 0.2337\n",
      "Epoch 17/20\n",
      "\u001b[1m25/25\u001b[0m \u001b[32m━━━━━━━━━━━━━━━━━━━━\u001b[0m\u001b[37m\u001b[0m \u001b[1m0s\u001b[0m 9ms/step - accuracy: 0.9325 - loss: 0.2283 - val_accuracy: 0.9650 - val_loss: 0.2122\n",
      "Epoch 18/20\n",
      "\u001b[1m25/25\u001b[0m \u001b[32m━━━━━━━━━━━━━━━━━━━━\u001b[0m\u001b[37m\u001b[0m \u001b[1m0s\u001b[0m 9ms/step - accuracy: 0.9450 - loss: 0.1944 - val_accuracy: 0.9900 - val_loss: 0.1694\n",
      "Epoch 19/20\n",
      "\u001b[1m25/25\u001b[0m \u001b[32m━━━━━━━━━━━━━━━━━━━━\u001b[0m\u001b[37m\u001b[0m \u001b[1m0s\u001b[0m 8ms/step - accuracy: 0.9638 - loss: 0.1608 - val_accuracy: 0.9750 - val_loss: 0.1457\n",
      "Epoch 20/20\n",
      "\u001b[1m25/25\u001b[0m \u001b[32m━━━━━━━━━━━━━━━━━━━━\u001b[0m\u001b[37m\u001b[0m \u001b[1m0s\u001b[0m 8ms/step - accuracy: 0.9700 - loss: 0.1457 - val_accuracy: 0.9750 - val_loss: 0.1320\n"
     ]
    }
   ],
   "source": [
    "model.compile(optimizer='adam', loss='binary_crossentropy', metrics=['accuracy'])\n",
    "history = model.fit(X, y, epochs=20, batch_size=32, validation_split=0.2)"
   ]
  },
  {
   "cell_type": "code",
   "execution_count": 10,
   "id": "3116cf6e-5338-4cbd-9939-bdf96835d0d3",
   "metadata": {},
   "outputs": [
    {
     "name": "stdout",
     "output_type": "stream",
     "text": [
      "INFO:tensorflow:Assets written to: C:\\Users\\yenug\\AppData\\Local\\Temp\\tmp02q0abjv\\assets\n"
     ]
    },
    {
     "name": "stderr",
     "output_type": "stream",
     "text": [
      "INFO:tensorflow:Assets written to: C:\\Users\\yenug\\AppData\\Local\\Temp\\tmp02q0abjv\\assets\n"
     ]
    },
    {
     "name": "stdout",
     "output_type": "stream",
     "text": [
      "Saved artifact at 'C:\\Users\\yenug\\AppData\\Local\\Temp\\tmp02q0abjv'. The following endpoints are available:\n",
      "\n",
      "* Endpoint 'serve'\n",
      "  args_0 (POSITIONAL_ONLY): TensorSpec(shape=(None, 2), dtype=tf.float32, name='keras_tensor_4')\n",
      "Output Type:\n",
      "  TensorSpec(shape=(None, 1), dtype=tf.float32, name=None)\n",
      "Captures:\n",
      "  2642895490320: TensorSpec(shape=(), dtype=tf.resource, name=None)\n",
      "  2642895491088: TensorSpec(shape=(), dtype=tf.resource, name=None)\n",
      "  2642895489552: TensorSpec(shape=(), dtype=tf.resource, name=None)\n",
      "  2642895489936: TensorSpec(shape=(), dtype=tf.resource, name=None)\n",
      "  2642895491856: TensorSpec(shape=(), dtype=tf.resource, name=None)\n",
      "  2642895490512: TensorSpec(shape=(), dtype=tf.resource, name=None)\n"
     ]
    }
   ],
   "source": [
    "converter = tf.lite.TFLiteConverter.from_keras_model(model)\n",
    "tflite_model = converter.convert()\n",
    "\n",
    "with open(\"../tinyml_esp32/snr_classifier.tflite\", \"wb\") as f:\n",
    "    f.write(tflite_model)"
   ]
  },
  {
   "cell_type": "code",
   "execution_count": 9,
   "id": "ab2b65e9-41ba-488f-97ce-83eda0637d91",
   "metadata": {},
   "outputs": [
    {
     "name": "stdout",
     "output_type": "stream",
     "text": [
      "INFO:tensorflow:Assets written to: C:\\Users\\yenug\\AppData\\Local\\Temp\\tmphmj3r5xz\\assets\n"
     ]
    },
    {
     "name": "stderr",
     "output_type": "stream",
     "text": [
      "INFO:tensorflow:Assets written to: C:\\Users\\yenug\\AppData\\Local\\Temp\\tmphmj3r5xz\\assets\n"
     ]
    },
    {
     "name": "stdout",
     "output_type": "stream",
     "text": [
      "Saved artifact at 'C:\\Users\\yenug\\AppData\\Local\\Temp\\tmphmj3r5xz'. The following endpoints are available:\n",
      "\n",
      "* Endpoint 'serve'\n",
      "  args_0 (POSITIONAL_ONLY): TensorSpec(shape=(None, 2), dtype=tf.float32, name='keras_tensor_4')\n",
      "Output Type:\n",
      "  TensorSpec(shape=(None, 1), dtype=tf.float32, name=None)\n",
      "Captures:\n",
      "  2642895490320: TensorSpec(shape=(), dtype=tf.resource, name=None)\n",
      "  2642895491088: TensorSpec(shape=(), dtype=tf.resource, name=None)\n",
      "  2642895489552: TensorSpec(shape=(), dtype=tf.resource, name=None)\n",
      "  2642895489936: TensorSpec(shape=(), dtype=tf.resource, name=None)\n",
      "  2642895491856: TensorSpec(shape=(), dtype=tf.resource, name=None)\n",
      "  2642895490512: TensorSpec(shape=(), dtype=tf.resource, name=None)\n",
      "✅ TFLite model exported successfully.\n"
     ]
    }
   ],
   "source": [
    "try:\n",
    "    # Export to TFLite\n",
    "    converter = tf.lite.TFLiteConverter.from_keras_model(model)\n",
    "    tflite_model = converter.convert()\n",
    "\n",
    "    # Save the model\n",
    "    with open(\"../tinyml_esp32/snr_classifier.tflite\", \"wb\") as f:\n",
    "        f.write(tflite_model)\n",
    "\n",
    "    print(\"✅ TFLite model exported successfully.\")\n",
    "\n",
    "except Exception as e:\n",
    "    print(\"⚠️ TFLite export failed:\", e)\n",
    "    tflite_model = None"
   ]
  },
  {
   "cell_type": "code",
   "execution_count": 13,
   "id": "966c5e5b-0c20-4758-ac25-d8e58c0044ff",
   "metadata": {},
   "outputs": [
    {
     "name": "stdout",
     "output_type": "stream",
     "text": [
      "INFO:tensorflow:Assets written to: C:\\Users\\yenug\\AppData\\Local\\Temp\\tmp77qql1lv\\assets\n"
     ]
    },
    {
     "name": "stderr",
     "output_type": "stream",
     "text": [
      "INFO:tensorflow:Assets written to: C:\\Users\\yenug\\AppData\\Local\\Temp\\tmp77qql1lv\\assets\n"
     ]
    },
    {
     "name": "stdout",
     "output_type": "stream",
     "text": [
      "Saved artifact at 'C:\\Users\\yenug\\AppData\\Local\\Temp\\tmp77qql1lv'. The following endpoints are available:\n",
      "\n",
      "* Endpoint 'serve'\n",
      "  args_0 (POSITIONAL_ONLY): TensorSpec(shape=(None, 2), dtype=tf.float32, name='keras_tensor_4')\n",
      "Output Type:\n",
      "  TensorSpec(shape=(None, 1), dtype=tf.float32, name=None)\n",
      "Captures:\n",
      "  2642895490320: TensorSpec(shape=(), dtype=tf.resource, name=None)\n",
      "  2642895491088: TensorSpec(shape=(), dtype=tf.resource, name=None)\n",
      "  2642895489552: TensorSpec(shape=(), dtype=tf.resource, name=None)\n",
      "  2642895489936: TensorSpec(shape=(), dtype=tf.resource, name=None)\n",
      "  2642895491856: TensorSpec(shape=(), dtype=tf.resource, name=None)\n",
      "  2642895490512: TensorSpec(shape=(), dtype=tf.resource, name=None)\n",
      "✅ Model saved to tinyml_esp32/snr_classifier.tflite\n"
     ]
    }
   ],
   "source": [
    "# Re-export model to a permanent path\n",
    "converter = tf.lite.TFLiteConverter.from_keras_model(model)\n",
    "tflite_model = converter.convert()\n",
    "\n",
    "# Save directly to your repo folder\n",
    "with open(\"Federated-AI-Monitored-NOMA-aided-DFrFT-OFDM-with-Index-Modulation-for-Frugal-5G-Signal-Chains-on-ES\", \"wb\") as f:\n",
    "    f.write(tflite_model)\n",
    "\n",
    "print(\"✅ Model saved to tinyml_esp32/snr_classifier.tflite\")"
   ]
  },
  {
   "cell_type": "code",
   "execution_count": 14,
   "id": "ee633f70-bcd1-4740-ba31-763008f7ad39",
   "metadata": {},
   "outputs": [],
   "source": [
    "def convert_to_c_array(tflite_model):\n",
    "    hex_array = ', '.join(f'0x{b:02x}' for b in tflite_model)\n",
    "    return f\"const unsigned char model[] = {{ {hex_array} }};\"\n",
    "\n",
    "c_array = convert_to_c_array(tflite_model)\n",
    "with open(\"../tinyml_esp32/model_data.h\", \"w\") as f:\n",
    "    f.write(c_array)"
   ]
  },
  {
   "cell_type": "code",
   "execution_count": 16,
   "id": "c472f7e5-60b2-43e6-baa6-add57f2716f5",
   "metadata": {},
   "outputs": [
    {
     "data": {
      "image/png": "[encoded data removed]",
      "text/plain": [
       "<Figure size 640x480 with 1 Axes>"
      ]
     },
     "metadata": {},
     "output_type": "display_data"
    }
   ],
   "source": [
    "plt.plot(history.history['accuracy'], label='Train')\n",
    "plt.plot(history.history['val_accuracy'], label='Validation')\n",
    "plt.title(\"TinyML SNR Classifier Accuracy\")\n",
    "plt.xlabel(\"Epochs\")\n",
    "plt.ylabel(\"Accuracy\")\n",
    "plt.legend()\n",
    "plt.grid(True)\n",
    "plt.savefig(\"../ai_adaptation_curve.png\")\n",
    "plt.show()"
   ]
  },
  {
   "cell_type": "code",
   "execution_count": null,
   "id": "f3c5e16c-2d5e-49c8-8992-1bfe938fce3b",
   "metadata": {},
   "outputs": [],
   "source": []
  }
 ],
 "metadata": {
  "kernelspec": {
   "display_name": "Python 3 (ipykernel)",
   "language": "python",
   "name": "python3"
  },
  "language_info": {
   "codemirror_mode": {
    "name": "ipython",
    "version": 3
   },
   "file_extension": ".py",
   "mimetype": "text/x-python",
   "name": "python",
   "nbconvert_exporter": "python",
   "pygments_lexer": "ipython3",
   "version": "3.12.7"
  }
 },
 "nbformat": 4,
 "nbformat_minor": 5
}
